{
 "cells": [
  {
   "cell_type": "code",
   "execution_count": 1,
   "metadata": {},
   "outputs": [],
   "source": [
    "from neucube import Reservoir\n",
    "from neucube.encoder import Delta\n",
    "from neucube.validation import Pipeline\n",
    "from neucube.sampler import SpikeCount\n",
    "import torch"
   ]
  },
  {
   "cell_type": "code",
   "execution_count": 2,
   "metadata": {},
   "outputs": [],
   "source": [
    "import numpy as np\n",
    "import pandas as pd\n",
    "\n",
    "filenameslist = ['sam'+str(idx)+'_eeg.csv' for idx in range(1,61)]\n",
    "\n",
    "dfs = []\n",
    "for filename in filenameslist:\n",
    "  dfs.append(pd.read_csv('./example_data/wrist_movement_eeg/'+filename, header=None))\n",
    "\n",
    "fulldf = pd.concat(dfs)\n",
    "\n",
    "labels = pd.read_csv('./example_data/wrist_movement_eeg/tar_class_labels.csv', header=None)\n",
    "y = labels.values.flatten()\n",
    "\n",
    "feat_names = pd.read_csv('./example_data/wrist_movement_eeg/feature_names_eeg.txt', header=None).values.flatten()\n",
    "brain_coordinates = pd.read_csv('./example_data/wrist_movement_eeg/brain_coordinates.csv', header=None).values\n",
    "eeg_mapping = pd.read_csv('./example_data/wrist_movement_eeg/eeg_mapping.csv', header=None).values"
   ]
  },
  {
   "cell_type": "code",
   "execution_count": 3,
   "metadata": {},
   "outputs": [],
   "source": [
    "X = torch.tensor(fulldf.values.reshape(60,128,14))\n",
    "encoder = Delta(threshold=0.8)\n",
    "X = encoder.encode_dataset(X)\n",
    "y = labels.values.flatten()"
   ]
  },
  {
   "cell_type": "code",
   "execution_count": 5,
   "metadata": {},
   "outputs": [
    {
     "data": {
      "text/plain": [
       "torch.Size([60, 128, 14])"
      ]
     },
     "execution_count": 5,
     "metadata": {},
     "output_type": "execute_result"
    }
   ],
   "source": [
    "np.shape(X)"
   ]
  },
  {
   "cell_type": "code",
   "execution_count": 6,
   "metadata": {},
   "outputs": [
    {
     "name": "stderr",
     "output_type": "stream",
     "text": [
      "5it [00:27,  5.45s/it]"
     ]
    },
    {
     "name": "stdout",
     "output_type": "stream",
     "text": [
      "0.7833333333333333\n",
      "[[15  5  0]\n",
      " [ 5 14  1]\n",
      " [ 0  2 18]]\n"
     ]
    },
    {
     "name": "stderr",
     "output_type": "stream",
     "text": [
      "\n"
     ]
    }
   ],
   "source": [
    "from sklearn.metrics import accuracy_score as accuracy\n",
    "from sklearn.metrics import confusion_matrix\n",
    "from sklearn.model_selection import KFold\n",
    "from sklearn.linear_model import LogisticRegression\n",
    "from tqdm import tqdm\n",
    "\n",
    "kf = KFold(n_splits=5, shuffle=True, random_state=123)\n",
    "y_total, pred_total = [],[]\n",
    "\n",
    "for train_index, test_index in tqdm(kf.split(X)):\n",
    "  X_train, X_test = X[train_index], X[test_index]\n",
    "  y_train, y_test = y[train_index], y[test_index]\n",
    "\n",
    "  res = Reservoir(inputs=14)\n",
    "  sam =  SpikeCount()\n",
    "  clf = LogisticRegression(solver='liblinear')\n",
    "  pipe = Pipeline(res, sam, clf)\n",
    "  \n",
    "  pipe.fit(X_train, y_train)\n",
    "  pred = pipe.predict(X_test)\n",
    "\n",
    "  y_total.extend(y_test)\n",
    "  pred_total.extend(pred)\n",
    "\n",
    "print(accuracy(y_total, pred_total))\n",
    "print(confusion_matrix(y_total, pred_total))"
   ]
  },
  {
   "cell_type": "code",
   "execution_count": null,
   "metadata": {},
   "outputs": [],
   "source": []
  }
 ],
 "metadata": {
  "kernelspec": {
   "display_name": "Python 3 (ipykernel)",
   "language": "python",
   "name": "python3"
  },
  "language_info": {
   "codemirror_mode": {
    "name": "ipython",
    "version": 3
   },
   "file_extension": ".py",
   "mimetype": "text/x-python",
   "name": "python",
   "nbconvert_exporter": "python",
   "pygments_lexer": "ipython3",
   "version": "3.11.7"
  }
 },
 "nbformat": 4,
 "nbformat_minor": 4
}
