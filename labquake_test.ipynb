{
 "cells": [
  {
   "cell_type": "code",
   "execution_count": 1,
   "id": "64ddeecf-beb3-4e07-ac81-53dd325ba13a",
   "metadata": {},
   "outputs": [],
   "source": [
    "from neucube import Reservoir\n",
    "from neucube.encoder import Delta\n",
    "from neucube.validation import Pipeline\n",
    "from neucube.sampler import SpikeCount\n",
    "from neucube.datamanager import DataManager\n",
    "import torch"
   ]
  },
  {
   "cell_type": "code",
   "execution_count": 2,
   "id": "662ae5c4-88b5-4edd-bdb1-4cbe6db6c3db",
   "metadata": {},
   "outputs": [],
   "source": [
    "params = {\n",
    "            'source_data_path': 'example_data/labquake_source',\n",
    "            'samples_path':'example_data/labquake_samples',\n",
    "            'sampling_rate': 5000,\n",
    "            'batch_duration': 12000,\n",
    "    \n",
    "        }\n",
    "datamanager = DataManager(params)"
   ]
  },
  {
   "cell_type": "code",
   "execution_count": 3,
   "id": "8b56a08c-a0a1-40d4-a0b8-c5a382c57d25",
   "metadata": {},
   "outputs": [
    {
     "ename": "KeyboardInterrupt",
     "evalue": "",
     "output_type": "error",
     "traceback": [
      "\u001b[0;31m---------------------------------------------------------------------------\u001b[0m",
      "\u001b[0;31mKeyboardInterrupt\u001b[0m                         Traceback (most recent call last)",
      "Cell \u001b[0;32mIn[3], line 1\u001b[0m\n\u001b[0;32m----> 1\u001b[0m datamanager\u001b[38;5;241m.\u001b[39mprocess_and_save_batches()\n",
      "File \u001b[0;32m~/pkgs/neucube-py/neucube/datamanager/datamanager.py:140\u001b[0m, in \u001b[0;36mDataManager.process_and_save_batches\u001b[0;34m(self)\u001b[0m\n\u001b[1;32m    138\u001b[0m batch_counter \u001b[38;5;241m=\u001b[39m \u001b[38;5;241m1\u001b[39m\n\u001b[1;32m    139\u001b[0m \u001b[38;5;28;01mfor\u001b[39;00m chunk_id \u001b[38;5;129;01min\u001b[39;00m chunk_ids:\n\u001b[0;32m--> 140\u001b[0m     \u001b[38;5;28;01mif\u001b[39;00m \u001b[38;5;129;01mnot\u001b[39;00m \u001b[38;5;28mself\u001b[39m\u001b[38;5;241m.\u001b[39mfetch_data(chunk_id):\n\u001b[1;32m    141\u001b[0m         \u001b[38;5;28mprint\u001b[39m(\u001b[38;5;124mf\u001b[39m\u001b[38;5;124m\"\u001b[39m\u001b[38;5;124mFailed to load data for chunk \u001b[39m\u001b[38;5;132;01m{\u001b[39;00mchunk_id\u001b[38;5;132;01m}\u001b[39;00m\u001b[38;5;124m. Skipping.\u001b[39m\u001b[38;5;124m\"\u001b[39m)\n\u001b[1;32m    142\u001b[0m         \u001b[38;5;28;01mcontinue\u001b[39;00m\n",
      "File \u001b[0;32m~/pkgs/neucube-py/neucube/datamanager/datamanager.py:91\u001b[0m, in \u001b[0;36mDataManager.fetch_data\u001b[0;34m(self, chunk_id)\u001b[0m\n\u001b[1;32m     89\u001b[0m         data \u001b[38;5;241m=\u001b[39m f[\u001b[38;5;124m'\u001b[39m\u001b[38;5;124mS/data\u001b[39m\u001b[38;5;124m'\u001b[39m]\n\u001b[1;32m     90\u001b[0m         resampled_times, resampled_data \u001b[38;5;241m=\u001b[39m resample_data(times, data, \u001b[38;5;28mself\u001b[39m\u001b[38;5;241m.\u001b[39msampling_rate)\n\u001b[0;32m---> 91\u001b[0m         \u001b[38;5;28mself\u001b[39m\u001b[38;5;241m.\u001b[39mtimes[system_id] \u001b[38;5;241m=\u001b[39m [\u001b[38;5;241m1000\u001b[39m \u001b[38;5;241m*\u001b[39m t \u001b[38;5;28;01mfor\u001b[39;00m t \u001b[38;5;129;01min\u001b[39;00m resampled_times]\n\u001b[1;32m     92\u001b[0m         \u001b[38;5;28mself\u001b[39m\u001b[38;5;241m.\u001b[39mdata[system_id] \u001b[38;5;241m=\u001b[39m resampled_data\n\u001b[1;32m     93\u001b[0m \u001b[38;5;28;01mexcept\u001b[39;00m \u001b[38;5;167;01mException\u001b[39;00m \u001b[38;5;28;01mas\u001b[39;00m e:\n",
      "File \u001b[0;32m~/pkgs/neucube-py/neucube/datamanager/datamanager.py:91\u001b[0m, in \u001b[0;36m<listcomp>\u001b[0;34m(.0)\u001b[0m\n\u001b[1;32m     89\u001b[0m         data \u001b[38;5;241m=\u001b[39m f[\u001b[38;5;124m'\u001b[39m\u001b[38;5;124mS/data\u001b[39m\u001b[38;5;124m'\u001b[39m]\n\u001b[1;32m     90\u001b[0m         resampled_times, resampled_data \u001b[38;5;241m=\u001b[39m resample_data(times, data, \u001b[38;5;28mself\u001b[39m\u001b[38;5;241m.\u001b[39msampling_rate)\n\u001b[0;32m---> 91\u001b[0m         \u001b[38;5;28mself\u001b[39m\u001b[38;5;241m.\u001b[39mtimes[system_id] \u001b[38;5;241m=\u001b[39m [\u001b[38;5;241m1000\u001b[39m \u001b[38;5;241m*\u001b[39m t \u001b[38;5;28;01mfor\u001b[39;00m t \u001b[38;5;129;01min\u001b[39;00m resampled_times]\n\u001b[1;32m     92\u001b[0m         \u001b[38;5;28mself\u001b[39m\u001b[38;5;241m.\u001b[39mdata[system_id] \u001b[38;5;241m=\u001b[39m resampled_data\n\u001b[1;32m     93\u001b[0m \u001b[38;5;28;01mexcept\u001b[39;00m \u001b[38;5;167;01mException\u001b[39;00m \u001b[38;5;28;01mas\u001b[39;00m e:\n",
      "\u001b[0;31mKeyboardInterrupt\u001b[0m: "
     ]
    }
   ],
   "source": [
    "datamanager.process_and_save_batches()"
   ]
  },
  {
   "cell_type": "code",
   "execution_count": null,
   "id": "d6f81b2c-4c64-4db5-a8a0-ff4d6e75a427",
   "metadata": {},
   "outputs": [],
   "source": []
  }
 ],
 "metadata": {
  "kernelspec": {
   "display_name": "Python 3 (ipykernel)",
   "language": "python",
   "name": "python3"
  },
  "language_info": {
   "codemirror_mode": {
    "name": "ipython",
    "version": 3
   },
   "file_extension": ".py",
   "mimetype": "text/x-python",
   "name": "python",
   "nbconvert_exporter": "python",
   "pygments_lexer": "ipython3",
   "version": "3.11.7"
  }
 },
 "nbformat": 4,
 "nbformat_minor": 5
}
